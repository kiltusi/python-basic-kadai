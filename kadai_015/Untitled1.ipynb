{
  "nbformat": 4,
  "nbformat_minor": 0,
  "metadata": {
    "colab": {
      "provenance": []
    },
    "kernelspec": {
      "name": "python3",
      "display_name": "Python 3"
    },
    "language_info": {
      "name": "python"
    }
  },
  "cells": [
    {
      "cell_type": "code",
      "source": [
        "class Human:\n",
        "    def __init__(self, name, age):\n",
        "        self.name = name\n",
        "        self.age = age\n",
        "\n",
        "    def printinfo(self):\n",
        "        print(f\"名前: {self.name}, 年齢: {self.age}\")\n",
        "\n",
        "person = Human(\"Taro\", 45)\n",
        "person.printinfo()"
      ],
      "metadata": {
        "colab": {
          "base_uri": "https://localhost:8080/"
        },
        "id": "a6PEQH-xsQY1",
        "outputId": "921911d2-05cb-4177-d82c-867fab663ab1"
      },
      "execution_count": 3,
      "outputs": [
        {
          "output_type": "stream",
          "name": "stdout",
          "text": [
            "名前: Taro, 年齢: 45\n"
          ]
        }
      ]
    }
  ]
}