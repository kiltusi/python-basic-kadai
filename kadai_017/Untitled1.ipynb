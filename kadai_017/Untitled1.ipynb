{
  "nbformat": 4,
  "nbformat_minor": 0,
  "metadata": {
    "colab": {
      "provenance": []
    },
    "kernelspec": {
      "name": "python3",
      "display_name": "Python 3"
    },
    "language_info": {
      "name": "python"
    }
  },
  "cells": [
    {
      "cell_type": "code",
      "source": [
        "class Human:\n",
        "    def __init__(self, name, age):\n",
        "        self.name = name\n",
        "        self.age = age\n",
        "\n",
        "    def check_adult(self):\n",
        "        if self.age >= 20:\n",
        "            print(f\"{self.name}は大人です\")\n",
        "        else:\n",
        "            print(f\"{self.name}は大人ではありません\")\n",
        "\n",
        "human_list = [\n",
        "    Human(\"たろう\", 25),\n",
        "    Human(\"はなこ\", 18),\n",
        "    Human(\"じろう\", 30)\n",
        "]\n",
        "\n",
        "for human in human_list:\n",
        "    human.check_adult()\n"
      ],
      "metadata": {
        "colab": {
          "base_uri": "https://localhost:8080/"
        },
        "id": "MDMnbfTC9vJo",
        "outputId": "b9219f73-fb93-4ab5-9223-28bdfcd9f98d"
      },
      "execution_count": 10,
      "outputs": [
        {
          "output_type": "stream",
          "name": "stdout",
          "text": [
            "たろうは大人です\n",
            "はなこは大人ではありません\n",
            "じろうは大人です\n"
          ]
        }
      ]
    }
  ]
}